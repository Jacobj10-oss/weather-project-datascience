{
  "nbformat": 4,
  "nbformat_minor": 0,
  "metadata": {
    "colab": {
      "private_outputs": true,
      "provenance": [],
      "authorship_tag": "ABX9TyNZi6W8CrXjbdx9YhXwvThh",
      "include_colab_link": true
    },
    "kernelspec": {
      "name": "python3",
      "display_name": "Python 3"
    },
    "language_info": {
      "name": "python"
    }
  },
  "cells": [
    {
      "cell_type": "markdown",
      "metadata": {
        "id": "view-in-github",
        "colab_type": "text"
      },
      "source": [
        "<a href=\"https://colab.research.google.com/github/Jacobj10-oss/weather-project-datascience/blob/main/Weather_project_by_Jacob.ipynb\" target=\"_parent\"><img src=\"https://colab.research.google.com/assets/colab-badge.svg\" alt=\"Open In Colab\"/></a>"
      ]
    },
    {
      "cell_type": "code",
      "execution_count": null,
      "metadata": {
        "id": "filoxF23F1Ov"
      },
      "outputs": [],
      "source": [
        "import pandas as pd"
      ]
    },
    {
      "cell_type": "code",
      "source": [
        "df_data=pd.read_csv(\"/content/london_weather.csv\")"
      ],
      "metadata": {
        "id": "PfmizeRuKmKn"
      },
      "execution_count": null,
      "outputs": []
    },
    {
      "cell_type": "code",
      "source": [
        "df_data.head()"
      ],
      "metadata": {
        "id": "xHkoo1fWK2wm"
      },
      "execution_count": null,
      "outputs": []
    },
    {
      "cell_type": "code",
      "source": [
        "df_data.tail()"
      ],
      "metadata": {
        "id": "puspuyEKK8IQ"
      },
      "execution_count": null,
      "outputs": []
    },
    {
      "cell_type": "code",
      "source": [
        "df_data"
      ],
      "metadata": {
        "id": "mtAsPW0xL1j_"
      },
      "execution_count": null,
      "outputs": []
    },
    {
      "cell_type": "markdown",
      "source": [
        "pre processing"
      ],
      "metadata": {
        "id": "_I5bcYZWMLg8"
      }
    },
    {
      "cell_type": "code",
      "source": [
        "df_columns=list(df_data.select_dtypes('object').columns)\n",
        "df_columns"
      ],
      "metadata": {
        "id": "iuJzo8qiL3nm"
      },
      "execution_count": null,
      "outputs": []
    },
    {
      "cell_type": "code",
      "source": [
        "from sklearn.preprocessing import LabelEncoder\n",
        "\n",
        "Encode=LabelEncoder()"
      ],
      "metadata": {
        "id": "pCxLrcWRM4-m"
      },
      "execution_count": null,
      "outputs": []
    },
    {
      "cell_type": "code",
      "source": [
        "for column_name in df_columns:\n",
        "  df_data[column_name]=Encode.fit_transform(df_data(column_name))"
      ],
      "metadata": {
        "id": "gQn9AYlZNKTF"
      },
      "execution_count": null,
      "outputs": []
    },
    {
      "cell_type": "code",
      "source": [
        "df_data"
      ],
      "metadata": {
        "id": "q8JSwS1nNfbX"
      },
      "execution_count": null,
      "outputs": []
    },
    {
      "cell_type": "markdown",
      "source": [
        "Null Value Handling"
      ],
      "metadata": {
        "id": "WylGs41zOk6T"
      }
    },
    {
      "cell_type": "code",
      "source": [
        "df_data.isnull().sum()"
      ],
      "metadata": {
        "id": "oGrbY_6BNjAF"
      },
      "execution_count": null,
      "outputs": []
    },
    {
      "cell_type": "markdown",
      "source": [
        "Mean based Summarize"
      ],
      "metadata": {
        "id": "etloSSv-O_MQ"
      }
    },
    {
      "cell_type": "code",
      "source": [
        "df_data['cloud_cover'].mean()"
      ],
      "metadata": {
        "id": "ZG5UvE8KO1Ge"
      },
      "execution_count": null,
      "outputs": []
    },
    {
      "cell_type": "code",
      "source": [
        "list_col_null=['cloud_cover','global_radiation','max_temp','mean_temp','min_temp','precipitation','pressure','snow_depth']"
      ],
      "metadata": {
        "id": "Opu101Wob5U-"
      },
      "execution_count": null,
      "outputs": []
    },
    {
      "cell_type": "code",
      "source": [
        "for column in list_col_null:\n",
        "  df_data[column]=df_data[column].fillna(df_data[column].mean())"
      ],
      "metadata": {
        "id": "u4MZ0K1VPxn9"
      },
      "execution_count": null,
      "outputs": []
    },
    {
      "cell_type": "code",
      "source": [
        "df_data.isnull().sum()"
      ],
      "metadata": {
        "id": "7cYq1yK1QNTe"
      },
      "execution_count": null,
      "outputs": []
    },
    {
      "cell_type": "markdown",
      "source": [
        "split input and output data"
      ],
      "metadata": {
        "id": "O7yH1B0yRPDY"
      }
    },
    {
      "cell_type": "code",
      "source": [
        "x = df_data.drop('snow_depth',axis=1)\n",
        "y = df_data['snow_depth']"
      ],
      "metadata": {
        "id": "Sn5Tm2gHRIDl"
      },
      "execution_count": null,
      "outputs": []
    },
    {
      "cell_type": "markdown",
      "source": [
        "Machine learning flow"
      ],
      "metadata": {
        "id": "aHZVhCqFTAiQ"
      }
    },
    {
      "cell_type": "code",
      "source": [
        "from sklearn.model_selection import train_test_split\n",
        "\n",
        "x_train,x_test,y_train,y_test=train_test_split(x,y,test_size=100,random_state=0)"
      ],
      "metadata": {
        "id": "h1G8rC3FRn-O"
      },
      "execution_count": null,
      "outputs": []
    },
    {
      "cell_type": "code",
      "source": [
        "x_train"
      ],
      "metadata": {
        "id": "XXsdMb0BT3dN"
      },
      "execution_count": null,
      "outputs": []
    },
    {
      "cell_type": "markdown",
      "source": [
        "Model Creation\n",
        "Linear Regression"
      ],
      "metadata": {
        "id": "5fNMd0HxVn-B"
      }
    },
    {
      "cell_type": "code",
      "source": [
        "from sklearn.linear_model import LinearRegression"
      ],
      "metadata": {
        "id": "ojT1U7ZUUDv1"
      },
      "execution_count": null,
      "outputs": []
    },
    {
      "cell_type": "code",
      "source": [
        "LR=LinearRegression()"
      ],
      "metadata": {
        "id": "x92TciHrV9NV"
      },
      "execution_count": null,
      "outputs": []
    },
    {
      "cell_type": "code",
      "source": [
        "LR.fit(x_train,y_train)"
      ],
      "metadata": {
        "id": "6XIUCeewWfAd"
      },
      "execution_count": null,
      "outputs": []
    },
    {
      "cell_type": "code",
      "source": [
        "LR.predict(x_test)"
      ],
      "metadata": {
        "id": "Je8DMjhcXTB9"
      },
      "execution_count": null,
      "outputs": []
    },
    {
      "cell_type": "code",
      "source": [
        "LR.score(x_train,y_train)*100"
      ],
      "metadata": {
        "id": "j3WCC8ugcylE"
      },
      "execution_count": null,
      "outputs": []
    },
    {
      "cell_type": "code",
      "source": [
        "LR.score(x_test,y_test)*100"
      ],
      "metadata": {
        "id": "aTHUAGfMc_VE"
      },
      "execution_count": null,
      "outputs": []
    },
    {
      "cell_type": "markdown",
      "source": [
        "Decision Tree"
      ],
      "metadata": {
        "id": "Yo25YYZHfYG-"
      }
    },
    {
      "cell_type": "code",
      "source": [
        "from sklearn.tree import DecisionTreeRegressor\n",
        "\n",
        "DT=DecisionTreeRegressor()"
      ],
      "metadata": {
        "id": "U1sg3ntJefPT"
      },
      "execution_count": null,
      "outputs": []
    },
    {
      "cell_type": "code",
      "source": [
        "DT.fit(x_train,y_train)"
      ],
      "metadata": {
        "id": "3zk2BfB2fjf7"
      },
      "execution_count": null,
      "outputs": []
    },
    {
      "cell_type": "code",
      "source": [
        "DT.predict(x_test)"
      ],
      "metadata": {
        "id": "MHONOuMnfqVT"
      },
      "execution_count": null,
      "outputs": []
    },
    {
      "cell_type": "code",
      "source": [
        "DT.score(x_train,y_train)*100"
      ],
      "metadata": {
        "id": "5BI0XhG1gHGD"
      },
      "execution_count": null,
      "outputs": []
    },
    {
      "cell_type": "code",
      "source": [
        "DT.score(x_test,y_test)*100"
      ],
      "metadata": {
        "id": "BuSwTO30gKPi"
      },
      "execution_count": null,
      "outputs": []
    },
    {
      "cell_type": "markdown",
      "source": [
        "RandomForest"
      ],
      "metadata": {
        "id": "hYP8iznCgwLT"
      }
    },
    {
      "cell_type": "code",
      "source": [
        "from sklearn.ensemble import RandomForestRegressor\n",
        "\n",
        "RF=RandomForestRegressor()"
      ],
      "metadata": {
        "id": "4ty7_mWqgNC7"
      },
      "execution_count": null,
      "outputs": []
    },
    {
      "cell_type": "code",
      "source": [
        "RF.fit(x_train,y_train)"
      ],
      "metadata": {
        "id": "8wY9pVeKg1Cb"
      },
      "execution_count": null,
      "outputs": []
    },
    {
      "cell_type": "code",
      "source": [
        "RF.predict(x_test)"
      ],
      "metadata": {
        "id": "xnYawK9jg3Xb"
      },
      "execution_count": null,
      "outputs": []
    },
    {
      "cell_type": "code",
      "source": [
        "RF.score(x_train,y_train)*100"
      ],
      "metadata": {
        "id": "ohsp3mLXhI6D"
      },
      "execution_count": null,
      "outputs": []
    },
    {
      "cell_type": "code",
      "source": [
        "RF.score(x_test,y_test)*100"
      ],
      "metadata": {
        "id": "jzVHjYm-hNF7"
      },
      "execution_count": null,
      "outputs": []
    },
    {
      "cell_type": "code",
      "source": [],
      "metadata": {
        "id": "s3uWH4SWhPwb"
      },
      "execution_count": null,
      "outputs": []
    }
  ]
}